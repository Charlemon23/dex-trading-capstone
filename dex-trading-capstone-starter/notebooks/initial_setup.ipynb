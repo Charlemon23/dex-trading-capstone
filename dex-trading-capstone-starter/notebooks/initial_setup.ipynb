{
  "cells": [
    {
      "cell_type": "markdown",
      "metadata": {},
      "source": [
        "# Initial Setup & Smoke Test\n",
        "Use this notebook to verify your environment and collect a small sample from DexScreener."
      ]
    },
    {
      "cell_type": "code",
      "execution_count": null,
      "metadata": {},
      "outputs": [],
      "source": [
        "from src.collect import collect\n",
        "print(collect(\"bonk\", limit=20))"
      ]
    }
  ],
  "metadata": {
    "kernelspec": {
      "display_name": "Python 3",
      "language": "python",
      "name": "python3"
    },
    "language_info": {
      "name": "python",
      "version": "3.x"
    }
  },
  "nbformat": 4,
  "nbformat_minor": 5
}